{
 "cells": [
  {
   "cell_type": "code",
   "execution_count": 1,
   "id": "49562032",
   "metadata": {},
   "outputs": [],
   "source": [
    "from typing import List"
   ]
  },
  {
   "cell_type": "code",
   "execution_count": 2,
   "id": "b06e18ea",
   "metadata": {},
   "outputs": [],
   "source": [
    "Vector= List[float]"
   ]
  },
  {
   "cell_type": "code",
   "execution_count": 3,
   "id": "8f1486dc",
   "metadata": {},
   "outputs": [],
   "source": [
    "def add_vectors(v:Vector, w:Vector)->Vector:\n",
    "    assert len(v)==len(w)\n",
    "    return [v_i + w_i for v_i, w_i in zip(v,w)]"
   ]
  },
  {
   "cell_type": "code",
   "execution_count": 4,
   "id": "0c81b637",
   "metadata": {},
   "outputs": [
    {
     "data": {
      "text/plain": [
       "True"
      ]
     },
     "execution_count": 4,
     "metadata": {},
     "output_type": "execute_result"
    }
   ],
   "source": [
    "add_vectors([1, 2, 3], [4, 5, 6]) == [5, 7, 9]"
   ]
  },
  {
   "cell_type": "code",
   "execution_count": 13,
   "id": "409d1a15",
   "metadata": {},
   "outputs": [],
   "source": [
    "def add_vectors2(v:Vector, w:Vector)->Vector:\n",
    "    assert len(v)==len(w)\n",
    "    x = len(v)\n",
    "    el = []\n",
    "    #return [v_i + w_i for v_i, w_i in zip(v,w)]\n",
    "     #what's this algo called?\n",
    "    while len(el) < x:\n",
    "        for i in v:\n",
    "            for j in w:\n",
    "                a = i+j\n",
    "                w.remove(j)\n",
    "                el.append(a)\n",
    "                \n",
    "            v.remove(i)\n",
    "    return el"
   ]
  },
  {
   "cell_type": "code",
   "execution_count": 14,
   "id": "d86c06e6",
   "metadata": {},
   "outputs": [
    {
     "data": {
      "text/plain": [
       "[5, 7, 8, 4]"
      ]
     },
     "execution_count": 14,
     "metadata": {},
     "output_type": "execute_result"
    }
   ],
   "source": [
    "add_vectors2([1, 2, 3, 8], [4, 5, 6, 2])"
   ]
  },
  {
   "cell_type": "code",
   "execution_count": 16,
   "id": "532ec3d0",
   "metadata": {},
   "outputs": [],
   "source": [
    "def subtract_vectors(v:Vector, w:Vector)->Vector:\n",
    "    assert len(v)==len(w)\n",
    "    return [v_i-w_i for v_i, w_i in zip(v,w)]"
   ]
  },
  {
   "cell_type": "code",
   "execution_count": 17,
   "id": "8a34fd30",
   "metadata": {},
   "outputs": [
    {
     "data": {
      "text/plain": [
       "True"
      ]
     },
     "execution_count": 17,
     "metadata": {},
     "output_type": "execute_result"
    }
   ],
   "source": [
    "subtract_vectors([5, 7, 9], [4, 5, 6]) == [1, 2, 3]"
   ]
  },
  {
   "cell_type": "code",
   "execution_count": 21,
   "id": "00fa517c",
   "metadata": {},
   "outputs": [],
   "source": [
    "def vector_sum(vectors: List[Vector])-> Vector:\n",
    "    assert vectors\n",
    "    num_elements = len(vectors[0])\n",
    "    assert all(len(v) == num_elements for v in vectors)\n",
    "    return [sum(vector[i] for vector in vectors) for i in range(num_elements)]"
   ]
  },
  {
   "cell_type": "code",
   "execution_count": 22,
   "id": "7fa72c9d",
   "metadata": {},
   "outputs": [
    {
     "data": {
      "text/plain": [
       "[16, 20]"
      ]
     },
     "execution_count": 22,
     "metadata": {},
     "output_type": "execute_result"
    }
   ],
   "source": [
    "vector_sum([[1, 2], [3, 4], [5, 6], [7, 8]])"
   ]
  },
  {
   "cell_type": "code",
   "execution_count": null,
   "id": "d54df0fc",
   "metadata": {},
   "outputs": [],
   "source": []
  },
  {
   "cell_type": "code",
   "execution_count": null,
   "id": "0998eede",
   "metadata": {},
   "outputs": [],
   "source": [
    "def scalar_multply(c: float, v: Vector)"
   ]
  }
 ],
 "metadata": {
  "kernelspec": {
   "display_name": "Python 3",
   "language": "python",
   "name": "python3"
  },
  "language_info": {
   "codemirror_mode": {
    "name": "ipython",
    "version": 3
   },
   "file_extension": ".py",
   "mimetype": "text/x-python",
   "name": "python",
   "nbconvert_exporter": "python",
   "pygments_lexer": "ipython3",
   "version": "3.8.5"
  }
 },
 "nbformat": 4,
 "nbformat_minor": 5
}
